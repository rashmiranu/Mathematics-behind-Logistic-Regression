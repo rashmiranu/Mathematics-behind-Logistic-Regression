{
 "cells": [
  {
   "cell_type": "markdown",
   "metadata": {},
   "source": [
    "## Logistic Regression\n",
    "Logistic Regression in one of the machine learning algorithm to solve **binary classification** problem. <br> By classification we mean when dependent variable is in **categorical** form. Some real life classification example would be\n",
    "* to classify the mail as spam or not spam\n",
    "* to classify the transaction as fraudulent or genuine\n",
    "* whether a person will buy insurance or not <br>\n",
    "In the above examples Logistic Regression estimates the **probability** of an event occurring i.e either mail is spam **(1)** or not spam **(0)**.\n",
    "\n",
    "\n",
    "\n"
   ]
  },
  {
   "cell_type": "markdown",
   "metadata": {},
   "source": [
    "## Mathematics behind logistic regression\n",
    "Suppose we have a dataset of whether a person will buy insurance or not. In the dependent variable(bought_insurance), **1** means *he will buy insurance* i.e a *positive class* and **0** means *he will not buy insurance* i.e a *negative class*. \n"
   ]
  },
  {
   "cell_type": "code",
   "execution_count": 1,
   "metadata": {},
   "outputs": [],
   "source": [
    "#import libraries\n",
    "import pandas as pd\n",
    "import matplotlib.pyplot as plt\n",
    "%matplotlib inline"
   ]
  },
  {
   "cell_type": "code",
   "execution_count": 2,
   "metadata": {},
   "outputs": [
    {
     "data": {
      "text/html": [
       "<div>\n",
       "<style scoped>\n",
       "    .dataframe tbody tr th:only-of-type {\n",
       "        vertical-align: middle;\n",
       "    }\n",
       "\n",
       "    .dataframe tbody tr th {\n",
       "        vertical-align: top;\n",
       "    }\n",
       "\n",
       "    .dataframe thead th {\n",
       "        text-align: right;\n",
       "    }\n",
       "</style>\n",
       "<table border=\"1\" class=\"dataframe\">\n",
       "  <thead>\n",
       "    <tr style=\"text-align: right;\">\n",
       "      <th></th>\n",
       "      <th>age</th>\n",
       "      <th>bought_insurance</th>\n",
       "    </tr>\n",
       "  </thead>\n",
       "  <tbody>\n",
       "    <tr>\n",
       "      <th>0</th>\n",
       "      <td>22</td>\n",
       "      <td>0</td>\n",
       "    </tr>\n",
       "    <tr>\n",
       "      <th>1</th>\n",
       "      <td>25</td>\n",
       "      <td>0</td>\n",
       "    </tr>\n",
       "    <tr>\n",
       "      <th>2</th>\n",
       "      <td>47</td>\n",
       "      <td>1</td>\n",
       "    </tr>\n",
       "    <tr>\n",
       "      <th>3</th>\n",
       "      <td>52</td>\n",
       "      <td>0</td>\n",
       "    </tr>\n",
       "    <tr>\n",
       "      <th>4</th>\n",
       "      <td>46</td>\n",
       "      <td>1</td>\n",
       "    </tr>\n",
       "  </tbody>\n",
       "</table>\n",
       "</div>"
      ],
      "text/plain": [
       "   age  bought_insurance\n",
       "0   22                 0\n",
       "1   25                 0\n",
       "2   47                 1\n",
       "3   52                 0\n",
       "4   46                 1"
      ]
     },
     "execution_count": 2,
     "metadata": {},
     "output_type": "execute_result"
    }
   ],
   "source": [
    "data= pd.read_csv(\"insurance_data.csv\")\n",
    "data.head()"
   ]
  },
  {
   "cell_type": "markdown",
   "metadata": {},
   "source": [
    "If we plot this dataset, we can see that all the points lie on 0 and 1"
   ]
  },
  {
   "cell_type": "code",
   "execution_count": 3,
   "metadata": {},
   "outputs": [
    {
     "data": {
      "text/plain": [
       "Text(0, 0.5, 'insurance ?: 0=No and 1=Yes')"
      ]
     },
     "execution_count": 3,
     "metadata": {},
     "output_type": "execute_result"
    },
    {
     "data": {
      "image/png": "[encoded data removed]",
      "text/plain": [
       "<Figure size 648x288 with 1 Axes>"
      ]
     },
     "metadata": {
      "needs_background": "light"
     },
     "output_type": "display_data"
    }
   ],
   "source": [
    "plt.figure(figsize= (9,4))\n",
    "plt.scatter(data[\"age\"], data['bought_insurance'])\n",
    "plt.xlabel(\"age\", fontsize=14)\n",
    "plt.ylabel(\"insurance ?: 0=No and 1=Yes\", fontsize=14)"
   ]
  },
  {
   "cell_type": "markdown",
   "metadata": {},
   "source": [
    "Seeing the plot we find that there is nothing special about the dependent variable aside from being binary. So we use Linear Regression by assuming the threshold value as 0.5. Which means that if the **probability(yes) >= 0.5**, the person will buy the insurance and if  **probability(yes) < 0.5**, the person will not buy the insurance."
   ]
  },
  {
   "cell_type": "code",
   "execution_count": 4,
   "metadata": {},
   "outputs": [
    {
     "data": {
      "text/plain": [
       "LinearRegression()"
      ]
     },
     "execution_count": 4,
     "metadata": {},
     "output_type": "execute_result"
    }
   ],
   "source": [
    "# separating independent and dependent variable\n",
    "x= data[[\"age\"]]\n",
    "y= data[[\"bought_insurance\"]]\n",
    "\n",
    "# defining Linear Regression model\n",
    "from sklearn.linear_model import LinearRegression\n",
    "reg= LinearRegression()\n",
    "\n",
    "# fitting the model\n",
    "reg.fit(x,y)"
   ]
  },
  {
   "cell_type": "code",
   "execution_count": 5,
   "metadata": {
    "scrolled": true
   },
   "outputs": [
    {
     "name": "stdout",
     "output_type": "stream",
     "text": [
      "intercept : [-0.42094437]\n",
      "coefficient : [[0.02368394]]\n"
     ]
    },
    {
     "data": {
      "image/png": "[encoded data removed]",
      "text/plain": [
       "<Figure size 648x288 with 1 Axes>"
      ]
     },
     "metadata": {
      "needs_background": "light"
     },
     "output_type": "display_data"
    }
   ],
   "source": [
    "plt.figure(figsize= (9,4))\n",
    "plt.scatter(data[\"age\"], data['bought_insurance'])\n",
    "plt.plot(data[\"age\"], reg.predict(x), color=\"orange\")\n",
    "plt.xlabel(\"age\", fontsize=14)\n",
    "plt.ylabel(\"insurance: 0=No and 1=Yes\", fontsize=14)\n",
    "plt.legend([ \"best fit regression line\", \"actual\"])\n",
    "\n",
    "print(\"intercept :\", reg.intercept_)\n",
    "print(\"coefficient :\", reg.coef_)"
   ]
  },
  {
   "cell_type": "markdown",
   "metadata": {},
   "source": [
    "## Problem in using Linear Regression\n",
    "### Problem 1.\n",
    "On the best fit line if we try to find whether the person with age=15 and age=75 will buy the insurance or not, we are getting the probability as negative and greater than 1 respectively.<br> And since the probability always lie between 0 and 1, it can never be negative or >1, Linear Regression cannot be used here."
   ]
  },
  {
   "cell_type": "code",
   "execution_count": 6,
   "metadata": {},
   "outputs": [
    {
     "name": "stdout",
     "output_type": "stream",
     "text": [
      "probability(yes=15) is [[-0.06568529]]\n",
      "probability(yes=75) is [[1.35535101]]\n"
     ]
    }
   ],
   "source": [
    "print(\"probability(yes=15) is\" , reg.predict([[15]]))\n",
    "print(\"probability(yes=75) is\" , reg.predict([[75]]))"
   ]
  },
  {
   "cell_type": "markdown",
   "metadata": {},
   "source": [
    "### Problem 2.\n",
    "In case the dataset contains outliers."
   ]
  },
  {
   "cell_type": "code",
   "execution_count": 7,
   "metadata": {},
   "outputs": [],
   "source": [
    "# creating same dataset with outlier\n",
    "data.to_csv(\"insurance_data(with_outlier).csv\", index=False)"
   ]
  },
  {
   "cell_type": "code",
   "execution_count": 8,
   "metadata": {},
   "outputs": [],
   "source": [
    "# to create an outlier, I have added a data point for age=120 and 1 as the corresponding output\n",
    "import csv\n",
    "\n",
    "with open(\"insurance_data(with_outlier).csv\", \"a\") as csvfile:\n",
    "    writer= csv.writer(csvfile)\n",
    "    writer.writerow([120,1])  "
   ]
  },
  {
   "cell_type": "code",
   "execution_count": 9,
   "metadata": {},
   "outputs": [
    {
     "data": {
      "text/html": [
       "<div>\n",
       "<style scoped>\n",
       "    .dataframe tbody tr th:only-of-type {\n",
       "        vertical-align: middle;\n",
       "    }\n",
       "\n",
       "    .dataframe tbody tr th {\n",
       "        vertical-align: top;\n",
       "    }\n",
       "\n",
       "    .dataframe thead th {\n",
       "        text-align: right;\n",
       "    }\n",
       "</style>\n",
       "<table border=\"1\" class=\"dataframe\">\n",
       "  <thead>\n",
       "    <tr style=\"text-align: right;\">\n",
       "      <th></th>\n",
       "      <th>age</th>\n",
       "      <th>bought_insurance</th>\n",
       "    </tr>\n",
       "  </thead>\n",
       "  <tbody>\n",
       "    <tr>\n",
       "      <th>23</th>\n",
       "      <td>45</td>\n",
       "      <td>1</td>\n",
       "    </tr>\n",
       "    <tr>\n",
       "      <th>24</th>\n",
       "      <td>50</td>\n",
       "      <td>1</td>\n",
       "    </tr>\n",
       "    <tr>\n",
       "      <th>25</th>\n",
       "      <td>54</td>\n",
       "      <td>1</td>\n",
       "    </tr>\n",
       "    <tr>\n",
       "      <th>26</th>\n",
       "      <td>23</td>\n",
       "      <td>0</td>\n",
       "    </tr>\n",
       "    <tr>\n",
       "      <th>27</th>\n",
       "      <td>120</td>\n",
       "      <td>1</td>\n",
       "    </tr>\n",
       "  </tbody>\n",
       "</table>\n",
       "</div>"
      ],
      "text/plain": [
       "    age  bought_insurance\n",
       "23   45                 1\n",
       "24   50                 1\n",
       "25   54                 1\n",
       "26   23                 0\n",
       "27  120                 1"
      ]
     },
     "execution_count": 9,
     "metadata": {},
     "output_type": "execute_result"
    }
   ],
   "source": [
    "data2= pd.read_csv(\"insurance_data(with_outlier).csv\")\n",
    "data2.tail()"
   ]
  },
  {
   "cell_type": "code",
   "execution_count": 10,
   "metadata": {},
   "outputs": [
    {
     "data": {
      "text/plain": [
       "LinearRegression()"
      ]
     },
     "execution_count": 10,
     "metadata": {},
     "output_type": "execute_result"
    }
   ],
   "source": [
    "# fitting linear regression model on the new dataset with outlier\n",
    "reg2= LinearRegression()\n",
    "reg2.fit(data2[[\"age\"]], data2[[\"bought_insurance\"]])"
   ]
  },
  {
   "cell_type": "code",
   "execution_count": 11,
   "metadata": {},
   "outputs": [
    {
     "name": "stdout",
     "output_type": "stream",
     "text": [
      "intercept : [-0.10208581]\n",
      "coefficient : [[0.01499446]]\n"
     ]
    },
    {
     "data": {
      "image/png": "[encoded data removed]",
      "text/plain": [
       "<Figure size 648x288 with 1 Axes>"
      ]
     },
     "metadata": {
      "needs_background": "light"
     },
     "output_type": "display_data"
    }
   ],
   "source": [
    "plt.figure(figsize= (9,4))\n",
    "plt.scatter(data2[[\"age\"]], data2[[\"bought_insurance\"]])\n",
    "plt.plot(data2[[\"age\"]], reg2.predict(data2[[\"age\"]]), color=\"orange\")\n",
    "plt.xlabel(\"age\", fontsize=14)\n",
    "plt.ylabel(\"insurance: 0=No and 1=Yes\", fontsize=14)\n",
    "plt.legend([ \"best fit regression line\", \"actual\"])\n",
    "\n",
    "print(\"intercept :\", reg2.intercept_)\n",
    "print(\"coefficient :\", reg2.coef_)"
   ]
  },
  {
   "cell_type": "markdown",
   "metadata": {},
   "source": [
    "From the plot we can see that because of the outlier, both the ***intercept*** and the ***coefficient*** is changed resulting in the ***shift of regression line***.<br> Now some datapoints which were in *positive class* (probability(yes)>= 0.5) comes in *negative class* (probability(yes)< 0.5), giving the incorrect prediction."
   ]
  },
  {
   "cell_type": "code",
   "execution_count": 12,
   "metadata": {},
   "outputs": [
    {
     "name": "stdout",
     "output_type": "stream",
     "text": [
      "probability(yes=40) without outlier was [[0.52641316]]. This person was buying the insurance.\n",
      "probability(yes=40) with outlier is [[0.49769262]]. Now this person will not buy the insurance.\n"
     ]
    }
   ],
   "source": [
    "print(\"probability(yes=40) without outlier was {}. This person was buying the insurance.\".format(reg.predict([[40]])))\n",
    "print(\"probability(yes=40) with outlier is {}. Now this person will not buy the insurance.\".format(reg2.predict([[40]])))"
   ]
  },
  {
   "cell_type": "markdown",
   "metadata": {},
   "source": [
    "###### In short:\n",
    "probability (p)= f(x), a linear function where x is an independent variables.<br> But we need to constrain probability (p) such that 0<= p <=1.\n"
   ]
  },
  {
   "cell_type": "markdown",
   "metadata": {},
   "source": [
    "## Solving the above problems of using Linear Regression\n",
    "Let’s consider y as linear function in the above univariate regression model, where x = independent variable and y = dependent variable.\n",
    "$${y} = {\\beta}_{0} + {\\beta}_{1}x $$ \n",
    "\n",
    "$${probability (p)} = f(x) = {\\beta}_{0} + {\\beta}_{1}x $$ \n",
    "###### To make probability(p) >= 0\n",
    "The exponential of any number always gives the positive value. Now the probability (p) becomes\n",
    "\n",
    "$${p} = e^{f(x)} = e^{ {\\beta}_{0} + {\\beta}_{1}x } $$ \n",
    "###### To make probability(p) < 1\n",
    "Dividing any number by a number which is slightly greater than it gives a value less than 1. Now the probability (p) becomes\n",
    "\n",
    "$${p} = \\frac{ e^{f(x)}}  {1 + e^{f(x)} }   = \\frac{ e^{ {\\beta}_{0} + {\\beta}_{1}x } }  {1 + e^{ {\\beta}_{0} + {\\beta}_{1}x }  }$$ \n",
    "\n",
    "$$ or $$\n",
    "\n",
    "$${p} = \\frac{1}  {1 + e^{- ({\\beta}_{0} + {\\beta}_{1}x) }  }$$\n",
    "\n",
    "$$ Sigmoid Function $$"
   ]
  },
  {
   "attachments": {
    "1_EVzm1iP8tx0Opvw-ph-XrA.png": {
     "image/png": "[encoded data removed]"
    }
   },
   "cell_type": "markdown",
   "metadata": {},
   "source": [
    "***This Sigmoid Function will also take care of Outliers***\n",
    "![1_EVzm1iP8tx0Opvw-ph-XrA.png](attachment:1_EVzm1iP8tx0Opvw-ph-XrA.png)"
   ]
  },
  {
   "cell_type": "markdown",
   "metadata": {},
   "source": [
    "On solving the Sigmoid Function we get\n",
    "$$\\frac{p}{1-p} = e^{ {\\beta}_{0} + {\\beta}_{1}x }$$\n",
    "\n",
    "$$ log(\\frac{p}{1-p}) = {\\beta}_{0} + {\\beta}_{1}x $$\n",
    "\n",
    "$$ log(odds) = {\\beta}_{0} + {\\beta}_{1}x $$, here p / (1-p) = probability of odds\n",
    "\n",
    "$$logit (p) = {\\beta}_{0} + {\\beta}_{1}x$$\n",
    "**log([odds](https://www.youtube.com/watch?v=ARfXDSkQf1Y)) = logit transformation of probability**"
   ]
  },
  {
   "cell_type": "markdown",
   "metadata": {},
   "source": [
    "### The *logit* of *probability* gives the linear regression and hence the name LOGISTIC REGRESSION"
   ]
  },
  {
   "cell_type": "markdown",
   "metadata": {},
   "source": []
  }
 ],
 "metadata": {
  "kernelspec": {
   "display_name": "Python 3",
   "language": "python",
   "name": "python3"
  },
  "language_info": {
   "codemirror_mode": {
    "name": "ipython",
    "version": 3
   },
   "file_extension": ".py",
   "mimetype": "text/x-python",
   "name": "python",
   "nbconvert_exporter": "python",
   "pygments_lexer": "ipython3",
   "version": "3.7.6"
  }
 },
 "nbformat": 4,
 "nbformat_minor": 4
}
